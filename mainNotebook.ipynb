{
 "cells": [
  {
   "cell_type": "code",
   "execution_count": 130,
   "metadata": {},
   "outputs": [],
   "source": [
    "import os \n",
    "import time as t\n",
    "from selenium import webdriver\n",
    "from selenium.webdriver.chrome.service import Service\n",
    "from webdriver_manager.chrome import ChromeDriverManager\n",
    "from selenium.webdriver.common.by import By\n",
    "from selenium.webdriver.common.keys import Keys\n",
    "from selenium.webdriver.support.select import Select\n",
    "from selenium.webdriver.chrome.options import Options\n",
    "from selenium.webdriver.support.ui import WebDriverWait\n",
    "from selenium.webdriver.support import expected_conditions as EC\n",
    "from selenium.webdriver.common.action_chains import ActionChains\n",
    "from selenium.common.exceptions import (\n",
    "    UnexpectedAlertPresentException,\n",
    "    NoSuchElementException)\n",
    "\n",
    "\n",
    "servico = Service(ChromeDriverManager().install())\n",
    "options = webdriver.ChromeOptions()\n",
    "options.add_argument('--headless')\n",
    "drive = webdriver.Chrome(service=servico, options=options)\n",
    "drive.maximize_window()\n",
    "\n",
    "marktime = WebDriverWait(drive, 90)\n",
    "\n"
   ]
  },
  {
   "cell_type": "code",
   "execution_count": 131,
   "metadata": {},
   "outputs": [
    {
     "name": "stdout",
     "output_type": "stream",
     "text": [
      "2812-213723\n"
     ]
    }
   ],
   "source": [
    "def adaptar_item(item):\n",
    "    if item < 10:\n",
    "        \n",
    "        return '0' + str(item)\n",
    "    else:\n",
    "        return item  \n",
    "\n",
    "\n",
    "def hora_setup():\n",
    "    \n",
    "    data_atual = t.localtime()\n",
    "    ano, mes, dia, hora, minuto, seg, dia_semana, dia_ano, isdst = data_atual\n",
    "    return f'{adaptar_item(dia)}{adaptar_item(mes)}-{adaptar_item(hora)}{adaptar_item(minuto)}{adaptar_item(seg)}'\n",
    "\n",
    "print(hora_setup())"
   ]
  },
  {
   "cell_type": "code",
   "execution_count": 132,
   "metadata": {},
   "outputs": [],
   "source": [
    "def definir_topicos(maximo: int, nomes_pesquisa: list = []) -> tuple:\n",
    "    return len(nomes_pesquisa), nomes_pesquisa, maximo"
   ]
  },
  {
   "cell_type": "code",
   "execution_count": 133,
   "metadata": {},
   "outputs": [
    {
     "name": "stdout",
     "output_type": "stream",
     "text": [
      "3\n",
      "['python', 'comida', 'música']\n",
      "10\n"
     ]
    }
   ],
   "source": [
    "quantidade, lista_topicos, quantidade_maxima_por_topico = definir_topicos(10, ['python','comida','música'])\n",
    "print(quantidade)\n",
    "print(lista_topicos)\n",
    "print(quantidade_maxima_por_topico)\n"
   ]
  },
  {
   "cell_type": "code",
   "execution_count": 134,
   "metadata": {},
   "outputs": [
    {
     "name": "stdout",
     "output_type": "stream",
     "text": [
      "{'python': ['https://www.youtube.com/watch?v=fLs-zF9BFxg', 'https://www.youtube.com/watch?v=Q8eajxcS6dQ', 'https://www.youtube.com/watch?v=DXmCU7v9glM', 'https://www.youtube.com/watch?v=4p7axLXXBGU', 'https://www.youtube.com/watch?v=GQpQha2Mfpg', 'https://www.youtube.com/shorts/dqvVnEuyLiM', 'https://www.youtube.com/shorts/dqvVnEuyLiM', 'https://www.youtube.com/watch?v=uOgDa1rlqjE', 'https://www.youtube.com/watch?v=UnfmxnFpfdM', 'https://www.youtube.com/watch?v=I5kqBeJUNhE'], 'comida': ['https://www.youtube.com/watch?v=NBHY2tAKFow', 'https://www.youtube.com/watch?v=JPTHpKdrc5c', 'https://www.youtube.com/watch?v=ub8GBvZpOIE', 'https://www.youtube.com/watch?v=PfUMYeIXYnA', 'https://www.youtube.com/watch?v=ZMN1v2Vqz4I', 'https://www.youtube.com/watch?v=XCBq0BExmH4', 'https://www.youtube.com/watch?v=piV-3jTXroc', 'https://www.youtube.com/watch?v=YMxmIdxVMu0', 'https://www.youtube.com/watch?v=Lqk7hr3X8FU', 'https://www.youtube.com/shorts/wdgir3nmZ18'], 'música': ['https://www.youtube.com/watch?v=5fI3cK7iDeg', 'https://www.youtube.com/watch?v=_Jb92oMPiFo', 'https://www.youtube.com/watch?v=2GaoftY31F8', 'https://www.youtube.com/watch?v=OrK3vrZXjK8', 'https://www.youtube.com/watch?v=Q-uLmFqCd-Q', 'https://www.youtube.com/watch?v=bPf3vNB944o', 'https://www.youtube.com/watch?v=9yP7HJHy2sg', 'https://www.youtube.com/watch?v=69-jnA4QLSM', 'https://www.youtube.com/watch?v=qNd3-hmIG-M', 'https://www.youtube.com/shorts/yfsKibpP6tY']}\n"
     ]
    }
   ],
   "source": [
    "lista_videos_objeto = []\n",
    "dados = {}\n",
    "for i, item in enumerate(lista_topicos):\n",
    "    drive.get(f'https://youtube.com/results?search_query={item}')\n",
    "    \n",
    "    marktime.until(\n",
    "        EC.presence_of_element_located(\n",
    "            (By.ID, 'thumbnail')\n",
    "        )\n",
    "    )\n",
    "    \n",
    "    t.sleep(2)\n",
    "    \n",
    "    \n",
    "    info = drive.find_elements(By.ID, 'dismissible')[:quantidade_maxima_por_topico]\n",
    " \n",
    "\n",
    "    links = [item.find_element(By.ID, 'thumbnail').get_attribute('href') for item in info]\n",
    "    \n",
    "    with open(f'Links-{lista_topicos[i]}.{hora_setup()}', 'w') as f:\n",
    "        \n",
    "        f.write('\\n'.join(links))\n",
    "\n",
    "    info = {lista_topicos[i]: links}\n",
    "    dados.update(info)\n",
    "    \n",
    "print(dados)"
   ]
  }
 ],
 "metadata": {
  "kernelspec": {
   "display_name": "Python 3",
   "language": "python",
   "name": "python3"
  },
  "language_info": {
   "codemirror_mode": {
    "name": "ipython",
    "version": 3
   },
   "file_extension": ".py",
   "mimetype": "text/x-python",
   "name": "python",
   "nbconvert_exporter": "python",
   "pygments_lexer": "ipython3",
   "version": "3.10.9 (tags/v3.10.9:1dd9be6, Dec  6 2022, 20:01:21) [MSC v.1934 64 bit (AMD64)]"
  },
  "orig_nbformat": 4,
  "vscode": {
   "interpreter": {
    "hash": "4deb986f3ce6d39d52ae36d5b72d27b1f73a8b6b686c07859b235a0545bfc1d1"
   }
  }
 },
 "nbformat": 4,
 "nbformat_minor": 2
}
